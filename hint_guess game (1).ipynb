{
 "cells": [
  {
   "cell_type": "code",
   "execution_count": 2,
   "metadata": {},
   "outputs": [
    {
     "name": "stdout",
     "output_type": "stream",
     "text": [
      "Requirement already satisfied: countryinfo in c:\\users\\vknsr\\anaconda3\\lib\\site-packages (0.1.2)\n"
     ]
    }
   ],
   "source": [
    "!pip install countryinfo\n"
   ]
  },
  {
   "cell_type": "code",
   "execution_count": 6,
   "metadata": {},
   "outputs": [],
   "source": [
    "from countryinfo import CountryInfo"
   ]
  },
  {
   "cell_type": "code",
   "execution_count": 12,
   "metadata": {},
   "outputs": [],
   "source": [
    "def hint_guess():\n",
    "    country = input('Write a contry name\\t')\n",
    "    capital = CountryInfo(country).capital()\n",
    "    print(\"Guess the capital city of \",country)\n",
    "    hint = ''\n",
    "    turns = 5\n",
    "    while turns > 0:\n",
    "        failed = 0\n",
    "        for char in capital:\n",
    "            if char in hint:\n",
    "                print(char, end=\" \")\n",
    "            else:\n",
    "                print(\"_\")\n",
    "                failed += 1\n",
    "        if failed == 0:\n",
    "            print(\"\\n You Found the correct capital city of \",country)\n",
    "            print(\"The word is: \", capital)\n",
    "            print('The no of turns is ',turns)\n",
    "            break\n",
    "        print()\n",
    "        guess = input(\"guess a character:\")\n",
    "        hint += guess  \n",
    "        if guess not in capital:\n",
    "            turns -= 1\n",
    "            print(\"Wrong the character is not in capital city\")\n",
    "            print(\"You have more\", + turns, 'to guesses the correct word')\n",
    "    if turns == 0:\n",
    "        again=input(\"You are out of moves so  Press 0 to play again or 1 to end\")\n",
    "        if again=='0':\n",
    "            hint_guess()\n",
    "        else:\n",
    "            print(\"end\")\n",
    "        print(\"The correct guess is \",capital)"
   ]
  },
  {
   "cell_type": "code",
   "execution_count": 15,
   "metadata": {},
   "outputs": [
    {
     "name": "stdout",
     "output_type": "stream",
     "text": [
      "Write a contry name\tItaly\n",
      "Guess the capital city of  Italy\n",
      "_\n",
      "_\n",
      "_\n",
      "_\n",
      "\n",
      "guess a character:r\n",
      "Wrong the character is not in capital city\n",
      "You have more 4 to guesses the word\n",
      "_\n",
      "_\n",
      "_\n",
      "_\n",
      "\n",
      "guess a character:R\n",
      "R _\n",
      "_\n",
      "_\n",
      "\n",
      "guess a character:o\n",
      "R o _\n",
      "_\n",
      "\n",
      "guess a character:m\n",
      "R o m _\n",
      "\n",
      "guess a character:a\n",
      "Wrong the character is not in capital city\n",
      "You have more 3 to guesses the word\n",
      "R o m _\n",
      "\n",
      "guess a character:e\n",
      "R o m e \n",
      " You Found the correct capital city of  Italy\n",
      "The word is:  Rome\n",
      "The no of turns is  3\n"
     ]
    }
   ],
   "source": [
    "hint_guess()"
   ]
  },
  {
   "cell_type": "code",
   "execution_count": null,
   "metadata": {},
   "outputs": [],
   "source": []
  },
  {
   "cell_type": "code",
   "execution_count": null,
   "metadata": {},
   "outputs": [],
   "source": []
  }
 ],
 "metadata": {
  "kernelspec": {
   "display_name": "Python 3",
   "language": "python",
   "name": "python3"
  },
  "language_info": {
   "codemirror_mode": {
    "name": "ipython",
    "version": 3
   },
   "file_extension": ".py",
   "mimetype": "text/x-python",
   "name": "python",
   "nbconvert_exporter": "python",
   "pygments_lexer": "ipython3",
   "version": "3.8.3"
  }
 },
 "nbformat": 4,
 "nbformat_minor": 4
}
